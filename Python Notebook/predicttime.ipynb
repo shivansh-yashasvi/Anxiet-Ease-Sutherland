{
  "nbformat": 4,
  "nbformat_minor": 0,
  "metadata": {
    "colab": {
      "name": "predicttime.ipynb",
      "provenance": [],
      "collapsed_sections": [],
      "include_colab_link": true
    },
    "kernelspec": {
      "name": "python3",
      "display_name": "Python 3"
    },
    "language_info": {
      "name": "python"
    }
  },
  "cells": [
    {
      "cell_type": "markdown",
      "metadata": {
        "id": "view-in-github",
        "colab_type": "text"
      },
      "source": [
        "<a href=\"https://colab.research.google.com/github/avyay10/Anxiet-ease/blob/main/predicttime.ipynb\" target=\"_parent\"><img src=\"https://colab.research.google.com/assets/colab-badge.svg\" alt=\"Open In Colab\"/></a>"
      ]
    },
    {
      "cell_type": "code",
      "metadata": {
        "id": "1ZKBkEp6nTs_"
      },
      "source": [
        "import pandas as pd\n",
        "import numpy as np\n",
        "import keras\n",
        "import tensorflow as tf\n",
        "from keras.preprocessing.sequence import TimeseriesGenerator"
      ],
      "execution_count": null,
      "outputs": []
    },
    {
      "cell_type": "code",
      "metadata": {
        "id": "ozlVTv0Fbddn"
      },
      "source": [
        "filename = \"GOOG.csv\"\n",
        "df = pd.read_csv(filename)"
      ],
      "execution_count": null,
      "outputs": []
    },
    {
      "cell_type": "code",
      "metadata": {
        "id": "8Mmx_p9KcRP5"
      },
      "source": [
        "df['Date'] = pd.to_datetime(df['Date'])\n",
        "df.set_axis(df['Date'], inplace=True)"
      ],
      "execution_count": null,
      "outputs": []
    },
    {
      "cell_type": "code",
      "metadata": {
        "id": "38oaOGGncRLO"
      },
      "source": [
        "delta = df['Delta'].values\n",
        "delta = delta.reshape((-1,1))\n",
        "\n",
        "split_percent = 0.80\n",
        "split = int(split_percent*len(delta))\n",
        "\n",
        "delta_train = delta[:split]\n",
        "delta_test = delta[split:]\n",
        "\n",
        "date_train = df['Date'][:split]\n",
        "date_test = df['Date'][split:]\n",
        "\n",
        "print(len(delta_train))\n",
        "print(len(delta_test))"
      ],
      "execution_count": null,
      "outputs": []
    },
    {
      "cell_type": "code",
      "metadata": {
        "id": "_KB02LgjcREL"
      },
      "source": [
        "look_back = 15\n",
        "\n",
        "train_generator = TimeseriesGenerator(delta_train, delta_train, length=look_back, batch_size=20)     \n",
        "test_generator = TimeseriesGenerator(delta_test, delta_test, length=look_back, batch_size=1)"
      ],
      "execution_count": null,
      "outputs": []
    },
    {
      "cell_type": "code",
      "metadata": {
        "id": "r4J3sLGecQ1y"
      },
      "source": [
        "from keras.models import Sequential\n",
        "from keras.layers import LSTM, Dense\n",
        "\n",
        "model = Sequential()\n",
        "model.add(\n",
        "    LSTM(10,\n",
        "        activation='relu',\n",
        "        input_shape=(look_back,1))\n",
        ")\n",
        "model.add(Dense(1))\n",
        "model.compile(optimizer='adam', loss='mse')\n",
        "\n",
        "num_epochs = 25\n",
        "model.fit_generator(train_generator, epochs=num_epochs, verbose=1)"
      ],
      "execution_count": null,
      "outputs": []
    },
    {
      "cell_type": "code",
      "metadata": {
        "id": "KHyUPQb8cmcZ"
      },
      "source": [
        "prediction = model.predict_generator(test_generator)"
      ],
      "execution_count": null,
      "outputs": []
    },
    {
      "cell_type": "code",
      "metadata": {
        "id": "HhTVcNbpcm4p"
      },
      "source": [
        ""
      ],
      "execution_count": null,
      "outputs": []
    }
  ]
}
